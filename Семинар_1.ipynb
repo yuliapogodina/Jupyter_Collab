{
  "cells": [
    {
      "cell_type": "markdown",
      "metadata": {
        "id": "Efh820rD1PEn"
      },
      "source": [
        "## Задача 1\n",
        "### 1.1 Соедините два словаря в один\n"
      ]
    },
    {
      "cell_type": "code",
      "execution_count": 2,
      "metadata": {
        "id": "42HoChpanQhm"
      },
      "outputs": [],
      "source": [
        "dict1 = {'One': 1, 'Two': 2, 'Three': 3}\n",
        "dict2 = {'Four': 4, 'Five': 5, 'Six': 6}"
      ]
    },
    {
      "cell_type": "code",
      "execution_count": 6,
      "metadata": {
        "colab": {
          "base_uri": "https://localhost:8080/"
        },
        "id": "9jtgXlbevjX6",
        "outputId": "b9d3313d-98dc-4c35-8967-b294c985008c"
      },
      "outputs": [
        {
          "data": {
            "text/plain": [
              "{'One': 1, 'Two': 2, 'Three': 3, 'Four': 4, 'Five': 5, 'Six': 6}"
            ]
          },
          "execution_count": 6,
          "metadata": {},
          "output_type": "execute_result"
        }
      ],
      "source": [
        "dict3 = dict1 | dict2\n",
        "dict3"
      ]
    },
    {
      "cell_type": "code",
      "execution_count": 11,
      "metadata": {
        "colab": {
          "base_uri": "https://localhost:8080/"
        },
        "id": "NGuBNcFfxrMc",
        "outputId": "7565df68-170a-4c12-cbe2-8b150be15736"
      },
      "outputs": [
        {
          "data": {
            "text/plain": [
              "{'One': 1, 'Two': 2, 'Three': 3, 'Four': 4, 'Five': 5, 'Six': 6}"
            ]
          },
          "execution_count": 11,
          "metadata": {},
          "output_type": "execute_result"
        }
      ],
      "source": [
        "dict1 = {'One': 1, 'Two': 2, 'Three': 3}\n",
        "dict2 = {'Four': 4, 'Five': 5, 'Six': 6}\n",
        "merged_dict = {**dict1, **dict2}\n",
        "merged_dict #аналогия return"
      ]
    },
    {
      "cell_type": "code",
      "execution_count": 13,
      "metadata": {
        "colab": {
          "base_uri": "https://localhost:8080/"
        },
        "id": "a06MTEvrysKS",
        "outputId": "9971009b-2d9c-45b4-b43f-ebd034be5ecf"
      },
      "outputs": [
        {
          "data": {
            "text/plain": [
              "{'One': 1, 'Two': 2, 'Three': 3, 'Four': 4, 'Five': 5, 'Six': 6}"
            ]
          },
          "execution_count": 13,
          "metadata": {},
          "output_type": "execute_result"
        }
      ],
      "source": [
        "dict1.update(dict2)\n",
        "dict1\n",
        "#добавление словаря в другой, путем изменения 1-го"
      ]
    },
    {
      "cell_type": "markdown",
      "metadata": {
        "id": "d5T7kHLt2Dd_"
      },
      "source": [
        "### 1.2 Напишите функцию, которая на вход принимает два словаря и возвращает один объединенный словарь.\n",
        "Используйте аннотирование типов"
      ]
    },
    {
      "cell_type": "code",
      "execution_count": 16,
      "metadata": {
        "id": "uB0bgDka2a3z"
      },
      "outputs": [],
      "source": [
        "dict1 = {'One': 1, 'Two': 2, 'Three': 3}\n",
        "dict2 = {'Four': 4, 'Five': 5, 'Six': 6}"
      ]
    },
    {
      "cell_type": "code",
      "execution_count": 18,
      "metadata": {
        "colab": {
          "base_uri": "https://localhost:8080/"
        },
        "id": "O8LyGF_NzQ0f",
        "outputId": "e97e9e60-b76e-41c7-df9f-8195f01c7bb2"
      },
      "outputs": [
        {
          "data": {
            "text/plain": [
              "{'One': 1, 'Two': 2, 'Three': 3, 'Four': 4, 'Five': 5, 'Six': 6}"
            ]
          },
          "execution_count": 18,
          "metadata": {},
          "output_type": "execute_result"
        }
      ],
      "source": [
        "def dict_all(dict_a: dict, dict_b: dict) -> dict:\n",
        "  dict_a.update(dict_b)\n",
        "  return dict_a\n",
        "\n",
        "dict_all(dict1, dict2)"
      ]
    },
    {
      "cell_type": "markdown",
      "metadata": {
        "id": "Fh-I3q6c3ENJ"
      },
      "source": [
        "## Задание 2.\n",
        "Напишите функцию, которая из двух списков, делает один словарь, где элементы из первого списка - ключи, а элементы из второго списка - значения\n",
        "Используйте аннотирование типов\n",
        "\n",
        "### 2.1 Используя цикл for"
      ]
    },
    {
      "cell_type": "code",
      "execution_count": 19,
      "metadata": {
        "id": "yH2lzITx3Pg5"
      },
      "outputs": [],
      "source": [
        "keys = ['One', 'Two', 'Three']\n",
        "values = [1, 2, 3]"
      ]
    },
    {
      "cell_type": "code",
      "execution_count": 26,
      "metadata": {
        "colab": {
          "base_uri": "https://localhost:8080/"
        },
        "id": "qnqigCNI3ena",
        "outputId": "4acc29f4-d586-4c85-8349-bd647e4463cb"
      },
      "outputs": [
        {
          "data": {
            "text/plain": [
              "{'One': [1], 'Two': [2], 'Three': [3]}"
            ]
          },
          "execution_count": 26,
          "metadata": {},
          "output_type": "execute_result"
        }
      ],
      "source": [
        "def func_my(lst1: list, lst2: list) -> dict:\n",
        "  mydict = dict()\n",
        "  for i in range(len(lst1)):\n",
        "    mydict[lst1[i]] = [lst2[i]]\n",
        "  return mydict\n",
        "\n",
        "func_my(keys, values)"
      ]
    },
    {
      "cell_type": "markdown",
      "metadata": {
        "id": "LOeF-V1w3XKX"
      },
      "source": [
        "### 2.2 Используя dict comprehensions"
      ]
    },
    {
      "cell_type": "code",
      "execution_count": 29,
      "metadata": {
        "colab": {
          "base_uri": "https://localhost:8080/"
        },
        "id": "kDfRZ98T-SOp",
        "outputId": "870a3c50-1fd7-4ced-a791-53a016c17a2d"
      },
      "outputs": [
        {
          "data": {
            "text/plain": [
              "{'One': 1, 'Two': 2, 'Three': 3}"
            ]
          },
          "execution_count": 29,
          "metadata": {},
          "output_type": "execute_result"
        }
      ],
      "source": [
        "{keys[i]: values[i] for i in range(len(keys))}"
      ]
    },
    {
      "cell_type": "markdown",
      "metadata": {
        "id": "34xNmU23BGt4"
      },
      "source": [
        "## Задание 3.\n",
        "Извлеките только два ключа name и age из представленного словаря\n",
        "## 3.1 Напишите функцию с циклом for\n",
        "Функция на вход принимает:\n",
        "исходный словарь\n",
        "ключи, которые нужно извлечь (аргумент по умолчанию)\n",
        "На выходе словарь с нужными ключами\n",
        "Используйте аннотирование типов"
      ]
    },
    {
      "cell_type": "code",
      "execution_count": 30,
      "metadata": {
        "id": "OgzL37_YBRmG"
      },
      "outputs": [],
      "source": [
        "client_dict = {\n",
        "\t\"name\": \"John\",\n",
        "\t\"age\": 25,\n",
        "\t\"salary\": 5000,\n",
        "\t\"city\": \"Moscow\"\n",
        "}"
      ]
    },
    {
      "cell_type": "code",
      "execution_count": 31,
      "metadata": {
        "colab": {
          "base_uri": "https://localhost:8080/"
        },
        "id": "XdINFRKiBWXu",
        "outputId": "cad87fae-83d9-419b-fb1d-355a01344590"
      },
      "outputs": [
        {
          "data": {
            "text/plain": [
              "{'name': 'John', 'age': 25}"
            ]
          },
          "execution_count": 31,
          "metadata": {},
          "output_type": "execute_result"
        }
      ],
      "source": [
        "def read_dict(dict_1: dict, keys: list=['name', 'age']) -> dict:\n",
        "  out_dict = dict()\n",
        "  for k in keys:\n",
        "    out_dict[k] = dict_1[k]\n",
        "  return out_dict\n",
        "\n",
        "read_dict(client_dict)"
      ]
    },
    {
      "cell_type": "markdown",
      "metadata": {
        "id": "z6k_lsYlBPZW"
      },
      "source": [
        "## 3.2 Используя dict comprehensions"
      ]
    },
    {
      "cell_type": "code",
      "execution_count": 32,
      "metadata": {
        "colab": {
          "base_uri": "https://localhost:8080/"
        },
        "id": "saxGttSAGKaI",
        "outputId": "91d7d02b-890c-4e2e-8d85-8aba744d6a3a"
      },
      "outputs": [
        {
          "data": {
            "text/plain": [
              "{'name': 'John', 'age': 25}"
            ]
          },
          "execution_count": 32,
          "metadata": {},
          "output_type": "execute_result"
        }
      ],
      "source": [
        "keys = ['name', 'age']\n",
        "{k: client_dict[k] for k in keys}"
      ]
    },
    {
      "cell_type": "markdown",
      "metadata": {
        "id": "sjL67y8NIEvu"
      },
      "source": [
        "## Задание 4.\n",
        "### 4.1 Сгенерируйте случайные целые числа от 0 до\n",
        "100 в количестве 5 штук с помощью модуля random\n",
        "- Зафиксируйте псевдогенерацию, чтобы сгенерированные значения всегда были одинаковые -\n",
        "- Используйте list comprehensions -"
      ]
    },
    {
      "cell_type": "code",
      "execution_count": 46,
      "metadata": {
        "id": "dWaHcOlIJzx2"
      },
      "outputs": [],
      "source": [
        "import random"
      ]
    },
    {
      "cell_type": "code",
      "execution_count": 51,
      "metadata": {
        "colab": {
          "base_uri": "https://localhost:8080/"
        },
        "id": "6HiuAa1uIq_J",
        "outputId": "541b5368-2eb6-4398-a268-2b4e722d5d4e"
      },
      "outputs": [
        {
          "data": {
            "text/plain": [
              "[23, 15, 84, 57, 42]"
            ]
          },
          "execution_count": 51,
          "metadata": {},
          "output_type": "execute_result"
        }
      ],
      "source": [
        "random.seed(18)\n",
        "data = [random.randint(0, 100) for i in range(5)]\n",
        "data"
      ]
    },
    {
      "cell_type": "markdown",
      "metadata": {
        "id": "OSZrtPPsLmne"
      },
      "source": [
        "## 4.2 Напишите генератор\n",
        "Генератор на вход принимает список с данными о клиенте (данные\n",
        "из пункта 4.1)\n",
        "Внутри генератора реализуйте обход по списку с данными\n",
        "На каждой итерации генератор будет возвращать кортеж из двух\n",
        "элементов:\n",
        "- 1. данные по клиенту (в зависимости от итерации, на 0 итерации\n",
        "вернется 0 элемент, на 1 итерации вернется 1 элемент и тд) -\n",
        "- 2. целочисленное значение, которое показывает, сколько секунд\n",
        "прошло с предыдущей итерации -\n",
        "\n",
        "Примечание: секунды, которые возвращаются должны показывать время не\n",
        "с начала запуска генератора, а именно то время, которое прошло с\n",
        "предыдущей итерации. А значит время на первой итерации должно\n",
        "равняться 0.\n",
        "Используйте функцию time из модуля time для подсчета времени.\n",
        "Чтобы проверить работу таймера, запустите проход по\n",
        "генератору в цикле с time.sleep(2"
      ]
    },
    {
      "cell_type": "code",
      "execution_count": 52,
      "metadata": {
        "id": "nVnD3njSL2pu"
      },
      "outputs": [],
      "source": [
        "import time"
      ]
    },
    {
      "cell_type": "code",
      "execution_count": 66,
      "metadata": {
        "colab": {
          "base_uri": "https://localhost:8080/"
        },
        "id": "ZpEn0BHlMpsH",
        "outputId": "082233a4-6884-462d-bbda-803dac577e8e"
      },
      "outputs": [
        {
          "name": "stdout",
          "output_type": "stream",
          "text": [
            "(23, 0)\n",
            "(15, 2)\n",
            "(84, 2)\n",
            "(57, 2)\n",
            "(42, 2)\n"
          ]
        }
      ],
      "source": [
        "def func_gen(client: list) -> tuple:\n",
        "  last_time = time.time()\n",
        "  for num in client:\n",
        "    cur_time = time.time()\n",
        "    yield (num, int(cur_time - last_time))\n",
        "    last_time = cur_time\n",
        "\n",
        "\n",
        "for time_iter in func_gen(data):\n",
        "  print(time_iter)\n",
        "  time.sleep(2)"
      ]
    },
    {
      "cell_type": "markdown",
      "metadata": {
        "id": "mDlv5JJdXk1d"
      },
      "source": [
        "https://w.forfun.com/fetch/e6/e6044cb0b978ce39ff76b57402ebd1de.jpeg"
      ]
    },
    {
      "cell_type": "markdown",
      "metadata": {
        "id": "CqfxsrTmX432"
      },
      "source": [
        "<img src=https://w.forfun.com/fetch/e6/e6044cb0b978ce39ff76b57402ebd1de.jpeg width=300>\n"
      ]
    },
    {
      "cell_type": "markdown",
      "metadata": {
        "id": "iJhJQcr7Yjnl"
      },
      "source": [
        "<table>\n",
        "  <tr>\n",
        "    <td> </td>\n",
        "    <td>До события</td>\n",
        "    <td>Во время</td>\n",
        "  </tr>\n",
        "  <tr>\n",
        "    <td>1 точка</td>\n",
        "    <td>250</td>\n",
        "    <td>500</td>\n",
        "  </tr>\n",
        "  <tr>\n",
        "    <td>2 точка</td>\n",
        "    <td>350</td>\n",
        "    <td>700</td>\n",
        "  </tr>\n",
        "  <tr>\n",
        "    <td>3 точка</td>\n",
        "    <td>400</td>\n",
        "    <td>800</td>\n",
        "  </tr>\n",
        "  <tr>\n",
        "    <td>Итого</td>\n",
        "    <td>1000</td>\n",
        "    <td>2000</td>\n",
        "  </tr>\n",
        "</table>"
      ]
    },
    {
      "cell_type": "markdown",
      "metadata": {
        "id": "dP8IpjXHZp9l"
      },
      "source": [
        "## Задание 6\n",
        "\n",
        "Напишите функцию, которая может принимать любое количество трат пользователя и считать сумму и среднее.\n",
        "На вход поступают целочисленные значения в любом количестве\n",
        "На выходе словарь с ключами суммы трат и средней траты"
      ]
    },
    {
      "cell_type": "code",
      "execution_count": 69,
      "metadata": {
        "colab": {
          "base_uri": "https://localhost:8080/"
        },
        "id": "xv01bHWQZvJd",
        "outputId": "232f7b27-1619-4d6a-ae20-dff09e1c616b"
      },
      "outputs": [
        {
          "name": "stdout",
          "output_type": "stream",
          "text": [
            "(1, 15, 25, 3, 5)\n"
          ]
        },
        {
          "data": {
            "text/plain": [
              "{'сумма': 49, 'среднее': 9.8}"
            ]
          },
          "execution_count": 69,
          "metadata": {},
          "output_type": "execute_result"
        }
      ],
      "source": [
        "def sum_money(*args):\n",
        "  print(args)\n",
        "  summa = sum(args)\n",
        "  aver = summa / len(args)\n",
        "  return {\"сумма\": summa, \"среднее\": aver}\n",
        "\n",
        "sum_money(1, 15, 25, 3, 5)"
      ]
    }
  ],
  "metadata": {
    "colab": {
      "provenance": []
    },
    "kernelspec": {
      "display_name": "Python 3",
      "name": "python3"
    },
    "language_info": {
      "name": "python"
    }
  },
  "nbformat": 4,
  "nbformat_minor": 0
}
